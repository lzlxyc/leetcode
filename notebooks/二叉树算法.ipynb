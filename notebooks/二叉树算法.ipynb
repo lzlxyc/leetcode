{
 "cells": [
  {
   "metadata": {},
   "cell_type": "markdown",
   "source": [
    "# 二叉树基础概念\n",
    "\n",
    "## 1. 什么是二叉树\n",
    "\n",
    "**二叉树**是每个节点最多有两个子节点的树形数据结构，通常称为：\n",
    "- **左子节点** (left child)\n",
    "- **右子节点** (right child)\n",
    "\n",
    "## 2. 基本术语\n",
    "\n",
    "### 节点组成\n",
    "```\n",
    "节点结构：\n",
    "    ┌─────────┐\n",
    "    │  数据    │\n",
    "    │ 左指针  │\n",
    "    │ 右指针  │\n",
    "    └─────────┘\n",
    "```\n",
    "\n",
    "### 相关概念\n",
    "- **根节点** (Root)：树的顶层节点，没有父节点\n",
    "- **叶节点** (Leaf)：没有子节点的节点\n",
    "- **内部节点**：至少有一个子节点的节点\n",
    "- **父节点** (Parent)：拥有子节点的节点\n",
    "- **子节点** (Child)：被父节点指向的节点\n",
    "- **兄弟节点** (Sibling)：具有相同父节点的节点\n",
    "- **深度** (Depth)：从根节点到该节点的路径长度\n",
    "- **高度** (Height)：从该节点到最深叶节点的路径长度\n",
    "\n",
    "## 3. 二叉树的性质\n",
    "\n",
    "### 数学性质\n",
    "- 第 i 层最多有 **2^(i-1)** 个节点\n",
    "- 深度为 k 的二叉树最多有 **2^k - 1** 个节点\n",
    "- 对于任何非空二叉树，如果叶节点数为 n₀，度为 2 的节点数为 n₂，则：\n",
    "  ```\n",
    "  n₀ = n₂ + 1\n",
    "  ```\n",
    "\n",
    "## 4. 特殊类型的二叉树\n",
    "\n",
    "### 4.1 满二叉树 (Full Binary Tree)\n",
    "- 每个节点都有 0 或 2 个子节点\n",
    "- 没有只有 1 个子节点的节点\n",
    "\n",
    "```\n",
    "     A\n",
    "    / \\\n",
    "   B   C\n",
    "  / \\ \n",
    " D   E\n",
    "```\n",
    "\n",
    "### 4.2 完全二叉树 (Complete Binary Tree)\n",
    "- 除最后一层外，所有层都是满的\n",
    "- 最后一层的节点都靠左排列\n",
    "\n",
    "```\n",
    "     A\n",
    "    / \\\n",
    "   B   C\n",
    "  / \\  /\n",
    " D   E F\n",
    "```\n",
    "\n",
    "### 4.3 完美二叉树 (Perfect Binary Tree)\n",
    "- 所有内部节点都有两个子节点\n",
    "- 所有叶节点都在同一层\n",
    "\n",
    "```\n",
    "     A\n",
    "    / \\\n",
    "   B   C\n",
    "  / \\ / \\\n",
    " D  E F  G\n",
    "```\n",
    "\n",
    "### 4.4 平衡二叉树 (Balanced Binary Tree)\n",
    "- 任意节点的左右子树高度差不超过 1\n",
    "- 例如：AVL树、红黑树\n",
    "\n",
    "### 4.5 二叉搜索树 (Binary Search Tree, BST)\n",
    "- 左子树所有节点值 < 根节点值\n",
    "- 右子树所有节点值 > 根节点值\n",
    "- 左右子树也都是二叉搜索树\n",
    "\n",
    "## 5. 二叉树的遍历方式\n",
    "\n",
    "### 5.1 深度优先遍历 (DFS)\n",
    "\n",
    "#### 前序遍历 (Pre-order)\n",
    "```\n",
    "访问顺序：根 → 左 → 右\n",
    "算法：\n",
    "1. 访问根节点\n",
    "2. 前序遍历左子树\n",
    "3. 前序遍历右子树\n",
    "```\n",
    "\n",
    "#### 中序遍历 (In-order)\n",
    "```\n",
    "访问顺序：左 → 根 → 右\n",
    "算法：\n",
    "1. 中序遍历左子树\n",
    "2. 访问根节点\n",
    "3. 中序遍历右子树\n",
    "```\n",
    "\n",
    "#### 后序遍历 (Post-order)\n",
    "```\n",
    "访问顺序：左 → 右 → 根\n",
    "算法：\n",
    "1. 后序遍历左子树\n",
    "2. 后序遍历右子树\n",
    "3. 访问根节点\n",
    "```\n",
    "\n",
    "### 5.2 广度优先遍历 (BFS)\n",
    "\n",
    "#### 层次遍历 (Level-order)\n",
    "```\n",
    "访问顺序：按层从上到下，每层从左到右\n",
    "算法（使用队列）：\n",
    "1. 将根节点入队\n",
    "2. 当队列不为空时：\n",
    "   a. 出队一个节点并访问\n",
    "   b. 将其左子节点入队\n",
    "   c. 将其右子节点入队\n",
    "```\n",
    "\n",
    "## 6. 二叉树存储结构\n",
    "\n",
    "### 6.1 链式存储\n",
    "```python\n",
    "class TreeNode:\n",
    "    def __init__(self, val=0, left=None, right=None):\n",
    "        self.val = val\n",
    "        self.left = left\n",
    "        self.right = right\n",
    "```\n",
    "\n",
    "### 6.2 顺序存储（数组表示）\n",
    "- 适用于完全二叉树\n",
    "- 对于位置 i 的节点：\n",
    "  - 左子节点位置：2i + 1\n",
    "  - 右子节点位置：2i + 2\n",
    "  - 父节点位置：(i-1)/2\n",
    "\n",
    "```\n",
    "树结构：\n",
    "     A(0)\n",
    "    /     \\\n",
    "   B(1)   C(2)\n",
    "  /   \\   /\n",
    " D(3) E(4) F(5)\n",
    "\n",
    "数组表示：[A, B, C, D, E, F]\n",
    "```\n",
    "\n",
    "## 7. 二叉树的应用场景\n",
    "\n",
    "### 常见应用\n",
    "1. **表达式树**：表示数学表达式\n",
    "2. **哈夫曼树**：数据压缩\n",
    "3. **二叉搜索树**：快速查找、插入、删除\n",
    "4. **堆**：优先队列实现\n",
    "5. **语法树**：编译器设计\n",
    "6. **文件系统**：目录结构表示\n",
    "\n",
    "### 复杂度分析\n",
    "| 操作 | 平均情况 | 最坏情况 |\n",
    "|------|----------|----------|\n",
    "| 查找 | O(log n) | O(n) |\n",
    "| 插入 | O(log n) | O(n) |\n",
    "| 删除 | O(log n) | O(n) |\n",
    "| 遍历 | O(n) | O(n) |\n"
   ],
   "id": "28b10380d24295e9"
  },
  {
   "metadata": {
    "jupyter": {
     "is_executing": true
    }
   },
   "cell_type": "code",
   "source": "",
   "id": "9022a57ee0f86c80",
   "outputs": [],
   "execution_count": null
  },
  {
   "metadata": {
    "ExecuteTime": {
     "end_time": "2025-10-13T16:07:44.285240Z",
     "start_time": "2025-10-13T16:07:44.277213Z"
    }
   },
   "cell_type": "code",
   "source": [
    "from typing import Dict, List, Optional, Tuple, Union\n",
    "\n",
    "class TreeNode:\n",
    "    def __init__(self, val=0, left=None, right=None):\n",
    "        self.val = val\n",
    "        self.left = left\n",
    "        self.right = right"
   ],
   "id": "778d6e4bf4f5812e",
   "outputs": [],
   "execution_count": 2
  },
  {
   "metadata": {},
   "cell_type": "code",
   "outputs": [],
   "execution_count": null,
   "source": "",
   "id": "162845c8c34ba067"
  },
  {
   "metadata": {},
   "cell_type": "markdown",
   "source": "## 1、二叉树的遍历",
   "id": "ea2e41c83d1fa76f"
  },
  {
   "metadata": {},
   "cell_type": "markdown",
   "source": [
    "### 1.1 前序遍历(先序遍历)\n",
    "前序遍历的访问顺序是：**根节点 -> 左子树 -> 右子树**。\n",
    "假设我们有如下二叉树：\n",
    "```\n",
    "        1\n",
    "      /   \\\n",
    "     2     3\n",
    "    / \\   /\n",
    "   4   5 6\n",
    "```\n",
    "> 前序遍历结果应为：`1, 2, 4, 5, 3, 6`\n",
    "> \n",
    "我来详细介绍二叉树的非递归前序遍历方法。\n",
    "\n",
    "## 前序遍历顺序\n",
    "根节点 → 左子树 → 右子树\n",
    "\n",
    "## 非递归实现思路\n",
    "使用栈来模拟递归过程：\n",
    "1. 将根节点入栈\n",
    "2. 当栈不为空时：\n",
    "   - 弹出栈顶节点并访问\n",
    "   - 先将右子节点入栈（如果存在）\n",
    "   - 再将左子节点入栈（如果存在）\n",
    "\n",
    "#### 复杂度分析\n",
    "- **时间复杂度**：O(n)，每个节点恰好访问一次\n",
    "- **空间复杂度**：O(h)，h为树的高度，最坏情况下为O(n)"
   ],
   "id": "8a666d0fa1cdbc35"
  },
  {
   "metadata": {},
   "cell_type": "code",
   "outputs": [],
   "execution_count": null,
   "source": [
    "# 144 https://leetcode.cn/problems/binary-tree-preorder-traversal/description/?envType=problem-list-v2&envId=binary-tree\n",
    "class Solution:\n",
    "    def preorderTraversal(self, root: Optional[TreeNode]) -> List[int]:\n",
    "        # 递归方法\n",
    "        def dfs(root: Optional[TreeNode]) -> None:\n",
    "            if not root: return\n",
    "\n",
    "            res.append(root.val)\n",
    "            if root.left: dfs(root.left)\n",
    "            if root.right: dfs(root.right)\n",
    "        \n",
    "        # 非递归方法\n",
    "        def dfs(root: Optional[TreeNode]) -> None:\n",
    "            if not root: return\n",
    "            stack = [root]\n",
    "            while stack:\n",
    "                curr = stack.pop()\n",
    "                res.append(curr.val)\n",
    "\n",
    "                if curr.right: stack.append(curr.right)\n",
    "                if curr.left: stack.append(curr.left)\n",
    "\n",
    "        res = []\n",
    "        dfs(root)\n",
    "        return res \n",
    "\n"
   ],
   "id": "3e08b38f20b209ca"
  },
  {
   "metadata": {},
   "cell_type": "markdown",
   "source": [
    "\n",
    "### 1.2 中序遍历\n",
    "中序遍历的访问顺序是：**左子树 -> 根节点 -> 右子树**。\n",
    "假设我们有如下二叉树：\n",
    "```\n",
    "        1\n",
    "      /   \\\n",
    "     2     3\n",
    "    / \\   /\n",
    "   4   5 6\n",
    "```\n",
    "> 中序遍历结果应为：`4, 2, 5, 1, 6, 3`\n",
    "> \n",
    "#### 1)非递归方法的算法思想\n",
    "> 核心思路是：\n",
    "- 从根节点开始，不断地将当前节点及其**所有左子节点**压入栈中。这模拟了“一路向左”深入的过程\n",
    "- 。当无法再向左时（当前节点为 `null`），从栈中弹出一个节点。这个节点就是当前应该访问的节点（因为它已经没有左子节点，或者左子节点已经被访问过了）。\n",
    "- 访问这个弹出的节点（例如，打印它的值）。\n",
    "- 然后，转向处理这个节点的**右子树**。将当前节点设置为它的右子节点，然后重复整个过程（循环访问这个右子节点的左子节点）。\n",
    "\n",
    "#### 2)算法步骤\n",
    "- 初始化一个空栈 `stack`，将当前节点 `curr` 指向根节点 `root`。\n",
    "- 进入一个循环，循环条件为 `curr != null` **或** 栈**不为空**。\n",
    "    *   **为什么是“或”？** 循环开始时栈是空的，但 `curr` 指向根节点，所以需要进入循环。后续过程中，可能 `curr` 为空但栈里还有节点需要处理。\n",
    "- **内层循环：** 如果当前节点 `curr` 不为空：\n",
    "    *   将 `curr` 压入栈。\n",
    "    *   将 `curr` 设置为其左子节点 (`curr = curr.left`)。\n",
    "    *   (这个循环完成了“一路向左到底”)\n",
    "- 当 `curr` 为空时：\n",
    "    *   从栈中弹出一个节点，命名为 `node`。这个节点就是下一个要访问的节点。\n",
    "    *   访问该节点 (`print(node.val)` 或进行其他操作)。\n",
    "    *   将 `curr` 指向这个节点的右子节点 (`curr = node.right`)。\n",
    "    *   (然后回到步骤2的大循环，开始处理这个右子树)\n",
    "- 当 `curr` 为 `null` **且** 栈为空时，遍历结束。\n",
    "\n",
    "#### 3)复杂度\n",
    "- **时间复杂度：O(n)**，其中 n 是二叉树的节点数。每个节点恰好被压入和弹出栈一次，并且被访问一次。\n",
    "- **空间复杂度：O(h)**，其中 h 是二叉树的高度。栈的深度最大为树的高度。在最坏情况下（树退化成链表），空间复杂度为 O(n)。\n"
   ],
   "id": "43a624329b8071d6"
  },
  {
   "metadata": {
    "ExecuteTime": {
     "end_time": "2025-10-14T02:55:43.733651Z",
     "start_time": "2025-10-14T02:55:43.716101Z"
    }
   },
   "cell_type": "code",
   "source": [
    "# 94 https://leetcode.cn/problems/binary-tree-inorder-traversal/description/?envType=problem-list-v2&envId=binary-tree\n",
    "class Solution:\n",
    "    def inorderTraversal(self, root: Optional[TreeNode]) -> List[int]:\n",
    "        #递归方法\n",
    "        def dfs(root: Optional[TreeNode]):\n",
    "            if not root: return \n",
    "            \n",
    "            if root.left: dfs(root.left)\n",
    "            res.append(root.val)\n",
    "            if root.right: dfs(root.right)\n",
    "\n",
    "        # 非递归方法\n",
    "        def dfs(root: Optional[TreeNode]):\n",
    "            stack, curr = [], root \n",
    "            while curr or stack:\n",
    "                while curr:\n",
    "                    stack.append(curr)\n",
    "                    curr = curr.left\n",
    "\n",
    "                node = stack.pop()\n",
    "                res.append(node.val)\n",
    "                curr = node.right\n",
    "        \n",
    "        res = []\n",
    "        dfs(root)\n",
    "        return res "
   ],
   "id": "8191b63eb86682a1",
   "outputs": [],
   "execution_count": 8
  },
  {
   "metadata": {},
   "cell_type": "markdown",
   "source": [
    "### 1.3 后序遍历\n",
    "后序遍历的访问顺序是：**左子树 -> 右子树 -> 根节点**。\n",
    "假设我们有如下二叉树：\n",
    "```\n",
    "        1\n",
    "      /   \\\n",
    "     2     3\n",
    "    / \\   /\n",
    "   4   5 6\n",
    "```\n",
    "> 后序遍历结果应为：`4, 5, 2, 6, 3, 1`\n",
    "> \n",
    "#### 非递归思路\n",
    "**采用\"反向思维\" - 通过修改前序遍历的顺序来间接实现后序遍历**\n",
    "具体步骤：\n",
    "1. **模拟修改版的前序遍历**：使用栈实现 **根 → 右 → 左** 的遍历顺序\n",
    "   - 正常前序遍历是根→左→右\n",
    "   - 这里调整为根→右→左\n",
    "\n",
    "2. **结果收集**：在遍历过程中，将每个节点的值按访问顺序添加到结果列表中\n",
    "\n",
    "3. **最终反转**：遍历完成后，将整个结果列表反转，得到 **左 → 右 → 根** 的后序遍历顺序\n",
    "\n",
    "**算法流程**：\n",
    "- 根 → 右 → 左 （遍历时的实际顺序）\n",
    "- 反转后：左 → 右 → 根 （最终的后序遍历结果）"
   ],
   "id": "b5570a39c053d143"
  },
  {
   "metadata": {
    "ExecuteTime": {
     "end_time": "2025-10-14T03:57:21.567328Z",
     "start_time": "2025-10-14T03:57:21.522026Z"
    }
   },
   "cell_type": "code",
   "source": [
    "# 145 https://leetcode.cn/problems/binary-tree-postorder-traversal/submissions/670420854/?envType=problem-list-v2&envId=binary-tree\n",
    "class Solution:\n",
    "    def postorderTraversal(self, root: Optional[TreeNode]) -> List[int]:\n",
    "        # 递归方法\n",
    "        def dfs(root: Optional[TreeNode]) -> None:\n",
    "            if not root: return\n",
    "\n",
    "            if root.left: dfs(root.left)\n",
    "            if root.right: dfs(root.right)\n",
    "            res.append(root.val)\n",
    "\n",
    "        # 非递归方法\n",
    "        def dfs(root: Optional[TreeNode]) -> None:\n",
    "            if not root: return \n",
    "            stack = [root]\n",
    "            while stack:\n",
    "                curr = stack.pop()\n",
    "                if not curr.right and not curr.left:\n",
    "                    res.append(curr.val)\n",
    "                    continue\n",
    "                stack.append(TreeNode(curr.val))\n",
    "                if curr.right: stack.append(curr.right)\n",
    "                if curr.left: stack.append(curr.left)\n",
    "\n",
    "        # 另外一种递归方法：逆序输出\n",
    "        def dfs(root: Optional[TreeNode]) -> None:\n",
    "            if not root: return\n",
    "            stack = [root]  # 用于模拟前序遍历（根->右->左）\n",
    "        \n",
    "            while stack:\n",
    "                node = stack.pop()\n",
    "                res.append(node.val)\n",
    "                \n",
    "                if node.left: stack.append(node.left)\n",
    "                if stack.right: stack.append(node.right)\n",
    "            \n",
    "        res = []\n",
    "        dfs(root)\n",
    "        return res[::-1]"
   ],
   "id": "51e080d8c3889840",
   "outputs": [],
   "execution_count": 9
  },
  {
   "metadata": {},
   "cell_type": "markdown",
   "source": [
    "### 1.4 层序遍历I\n",
    "> 二叉树的层序遍历（Level Order Traversal）是一种非常经典的遍历算法，它会按照从上到下、从左到右的顺序访问树的每一层节点。\n",
    ">\n",
    "> 最常用的方法是使用 **广度优先搜索（BFS）**，并借助一个 **队列（Queue）** 来实现。\n",
    "\n",
    "假设我们有如下二叉树：\n",
    "```\n",
    "     1\n",
    "   /   \\\n",
    "  2     3\n",
    " / \\     \\\n",
    "4   5     6\n",
    "```\n",
    "最终结果为：`[[1], [2, 3], [4, 5, 6]]`\n",
    "\n",
    "### 算法思路\n",
    "\n",
    "1.  **初始化**：首先将根节点放入队列。\n",
    "2.  **循环**：当队列不为空时，重复以下步骤：\n",
    "    a. **记录当前层的节点数**：记录下当前队列的长度 `size`，这个 `size` 就是当前层的节点个数。\n",
    "    b. **遍历当前层**：进行一个 `size` 次的循环，在每次循环中：\n",
    "       - 从队列中**取出**一个节点。\n",
    "       - 将该节点的值**存入**当前层的结果列表中。\n",
    "       - 如果该节点的左子节点不为空，则将其左子节点**加入**队列。\n",
    "       - 如果该节点的右子节点不为空，则将其右子节点**加入**队列。\n",
    "    c. **存储当前层**：将当前层的结果列表存入最终的结果列表中。\n",
    "3.  **返回结果**：当队列为空时，返回最终的结果列表。\n",
    "\n",
    "### 时间复杂度与空间复杂度\n",
    "\n",
    "- **时间复杂度**：O(N)，其中 N 是树中的节点个数。每个节点恰好被访问一次。\n",
    "- **空间复杂度**：O(N)，在最坏情况下（平衡二叉树），队列中最多会存储约 N/2 个节点（即最后一层的节点数）。"
   ],
   "id": "d7f32a1eba697f3c"
  },
  {
   "metadata": {
    "ExecuteTime": {
     "end_time": "2025-10-14T05:25:30.627858Z",
     "start_time": "2025-10-14T05:25:30.597861Z"
    }
   },
   "cell_type": "code",
   "source": [
    "# 102 https://leetcode.cn/problems/binary-tree-level-order-traversal/?envType=problem-list-v2&envId=binary-tree\n",
    "\n",
    "# 107 https://leetcode.cn/problems/binary-tree-level-order-traversal-ii/submissions/670442244/?envType=problem-list-v2&envId=binary-tree\n",
    "class Solution:\n",
    "    def levelOrder(self, root: Optional[TreeNode]) -> List[List[int]]:\n",
    "        res = []\n",
    "        if not root: return res \n",
    "        temp = [[root]]\n",
    "        idx = 0\n",
    "        while idx < len(temp):\n",
    "            currs = temp[idx]\n",
    "            idx += 1\n",
    "            res.append([curr.val for curr in currs])\n",
    "\n",
    "            layers = []\n",
    "            for curr in currs:\n",
    "                if curr.left: layers.append(curr.left)\n",
    "                if curr.right: layers.append(curr.right)\n",
    "            if layers: temp.append(layers)\n",
    "        return res"
   ],
   "id": "70872cd6cb6fdc57",
   "outputs": [],
   "execution_count": 10
  },
  {
   "metadata": {},
   "cell_type": "code",
   "outputs": [],
   "execution_count": null,
   "source": "",
   "id": "e0efa873954dc7dd"
  },
  {
   "metadata": {},
   "cell_type": "markdown",
   "source": "### 1.5 二叉树的锯齿形层次遍历",
   "id": "db1cc4eeb6e6c9ae"
  },
  {
   "metadata": {},
   "cell_type": "code",
   "outputs": [],
   "execution_count": null,
   "source": [
    "'''\n",
    "103 https://leetcode.cn/problems/binary-tree-zigzag-level-order-traversal/description/?envType=problem-list-v2&envId=binary-tree\n",
    "给你二叉树的根节点 root ，返回其节点值的 锯齿形层序遍历 。（即先从左往右，再从右往左进行下一层遍历，以此类推，层与层之间交替进行）。\n",
    "    3\n",
    "   /  \\\n",
    "  9    20\n",
    "      /  \\\n",
    "     15   7\n",
    "输入：root = [3,9,20,null,null,15,7]\n",
    "输出：[[3],[20,9],[15,7]]\n",
    "'''\n",
    "class Solution:\n",
    "    def zigzagLevelOrder(self, root: Optional[TreeNode]) -> List[List[int]]:\n",
    "        if not root: return []\n",
    "        res, temp, idx = [], [[root]], 0\n",
    "\n",
    "        while idx < len(temp):\n",
    "            currs = temp[idx]\n",
    "            next_layers = []\n",
    "            for curr in currs:\n",
    "                if curr.left: next_layers.append(curr.left)\n",
    "                if curr.right: next_layers.append(curr.right)\n",
    "                \n",
    "            if next_layers: temp.append(next_layers)\n",
    "\n",
    "            curr_vals = [curr.val for curr in currs]\n",
    "            if idx % 2: curr_vals = curr_vals[::-1]\n",
    "            res.append(curr_vals)\n",
    "\n",
    "            idx += 1"
   ],
   "id": "a725577a1927d7f6"
  },
  {
   "metadata": {},
   "cell_type": "code",
   "outputs": [],
   "execution_count": null,
   "source": "",
   "id": "2a4d4a494635b120"
  },
  {
   "metadata": {},
   "cell_type": "markdown",
   "source": "## 2、构造二叉树",
   "id": "df399458b25feb90"
  },
  {
   "metadata": {},
   "cell_type": "markdown",
   "source": "### 2.1 前序+中序遍历构造二叉树",
   "id": "99bf02da02e4fdc4"
  },
  {
   "metadata": {},
   "cell_type": "markdown",
   "source": "### 2.2 中序+后续遍历构造二叉树",
   "id": "964ba2b0cc88dccb"
  },
  {
   "metadata": {},
   "cell_type": "code",
   "outputs": [],
   "execution_count": null,
   "source": "",
   "id": "52bb5cc37c001f53"
  },
  {
   "metadata": {},
   "cell_type": "markdown",
   "source": "## 3、二叉搜索树",
   "id": "c4d0ff0af15467db"
  },
  {
   "metadata": {},
   "cell_type": "markdown",
   "source": "### 3.1 不同的二叉搜索树",
   "id": "5c42cac2a693568c"
  },
  {
   "metadata": {},
   "cell_type": "code",
   "outputs": [],
   "execution_count": null,
   "source": "",
   "id": "3aae8bc2f58a7603"
  },
  {
   "metadata": {},
   "cell_type": "markdown",
   "source": "### 3.2 不同的二叉搜索树II",
   "id": "32b6befe98d0f858"
  },
  {
   "metadata": {},
   "cell_type": "code",
   "outputs": [],
   "execution_count": null,
   "source": "",
   "id": "a65a235429007d0"
  },
  {
   "metadata": {},
   "cell_type": "markdown",
   "source": "### 3.3 验证二叉搜索树",
   "id": "16e491d3796f8ce1"
  },
  {
   "metadata": {},
   "cell_type": "markdown",
   "source": "### 3.4 恢复二叉搜索树",
   "id": "87cc03da181ad5ad"
  },
  {
   "metadata": {
    "ExecuteTime": {
     "end_time": "2025-10-14T05:26:30.126772Z",
     "start_time": "2025-10-14T05:26:30.116689Z"
    }
   },
   "cell_type": "code",
   "source": "",
   "id": "6655a1807e0d8ed0",
   "outputs": [],
   "execution_count": 10
  },
  {
   "metadata": {},
   "cell_type": "markdown",
   "source": "### 3.5 将有序数组转为二叉搜索树",
   "id": "73a1af0d4c34262"
  },
  {
   "metadata": {},
   "cell_type": "markdown",
   "source": "### 3.6 将有序链表转为二叉搜索树",
   "id": "20171da85b806c13"
  },
  {
   "metadata": {},
   "cell_type": "markdown",
   "source": "### 3.7 二叉搜索树迭代器",
   "id": "622998bd91a75e2"
  },
  {
   "metadata": {},
   "cell_type": "markdown",
   "source": "### 3.8 二叉搜索树中第K小的元素",
   "id": "b3e84bbd1e1481f6"
  },
  {
   "metadata": {},
   "cell_type": "markdown",
   "source": "### 3.9 二叉搜索树的最近公共祖先",
   "id": "e067bef713d593a3"
  },
  {
   "metadata": {},
   "cell_type": "code",
   "outputs": [],
   "execution_count": null,
   "source": "",
   "id": "26adeb166dfbb1c"
  },
  {
   "metadata": {},
   "cell_type": "markdown",
   "source": "## 4、二叉树属性",
   "id": "f54aebf23c660a09"
  },
  {
   "metadata": {},
   "cell_type": "markdown",
   "source": [
    "### 4.1 二叉树的最大深度\n",
    "- -二叉树的 最大深度 是指从根节点到最远叶子节点的最长路径上的节点数。"
   ],
   "id": "dd592798d79848f3"
  },
  {
   "metadata": {
    "ExecuteTime": {
     "end_time": "2025-10-14T06:22:22.186705Z",
     "start_time": "2025-10-14T06:22:22.178202Z"
    }
   },
   "cell_type": "code",
   "source": [
    "# 104 https://leetcode.cn/problems/maximum-depth-of-binary-tree/description/?envType=problem-list-v2&envId=binary-tree\n",
    "class Solution:\n",
    "    def maxDepth(self, root: Optional[TreeNode]) -> int:\n",
    "        # 递归方法\n",
    "        def dfs(root):\n",
    "            '''比较左右两边哪个子树更深，再加1（根节点）'''\n",
    "            if not root: return 0\n",
    "            return max(dfs(root.left), dfs(root.right)) + 1\n",
    "\n",
    "        # 非递归方法：基于层序遍历\n",
    "        def bfs(root):\n",
    "            if not root: return 0\n",
    "            temp, idx = [[root]], 0\n",
    "            while idx < len(temp):\n",
    "                layers = []\n",
    "                for curr in temp[idx]:\n",
    "                    if curr.left: layers.append(curr.left)\n",
    "                    if curr.right: layers.append(curr.right)\n",
    "                \n",
    "                if layers: temp.append(layers)\n",
    "                idx += 1\n",
    "\n",
    "            return idx\n",
    "\n",
    "        return dfs(root) "
   ],
   "id": "7348ba97ba33fe65",
   "outputs": [],
   "execution_count": 14
  },
  {
   "metadata": {},
   "cell_type": "markdown",
   "source": [
    "### 4.2 二叉树的最小深度\n",
    "- 最小深度是从根节点到最近叶子节点的最短路径上的节点数量。\n",
    "- 说明：叶子节点是指没有子节点的节点。\n",
    "> 思路\n",
    "- 进行递归，计算左右子树的最深度\n",
    "- 注意：子树深度为0，不是节点，不能纳入进来计算\n"
   ],
   "id": "36554b8ad04400b"
  },
  {
   "metadata": {
    "ExecuteTime": {
     "end_time": "2025-10-14T07:15:43.953017Z",
     "start_time": "2025-10-14T07:15:43.944513Z"
    }
   },
   "cell_type": "code",
   "source": [
    "# 111 https://leetcode.cn/problems/minimum-depth-of-binary-tree/description/?envType=problem-list-v2&envId=binary-tree\n",
    "class Solution:\n",
    "    def minDepth(self, root: Optional[TreeNode]) -> int:\n",
    "        def dfs(root):\n",
    "            # 计算左右子树的最深度\n",
    "            # 注意：子树深度为0，不能纳入进来计算\n",
    "            if not root: return 0\n",
    "\n",
    "            left = dfs(root.left)\n",
    "            right = dfs(root.right)\n",
    "            return (min(left, right) if left and right else max(left, right)) + 1\n",
    "        return dfs(root)    \n",
    "    \n",
    "    "
   ],
   "id": "cf7e4a59e7cc52aa",
   "outputs": [],
   "execution_count": 16
  },
  {
   "metadata": {},
   "cell_type": "markdown",
   "source": [
    "### 4.3 路径总和\n",
    "- 给你二叉树的根节点 root 和一个表示目标和的整数 targetSum 。判断该树中是否存在 根节点到叶子节点 的路径，这条路径上所有节点值相加等于目标和 targetSum 。如果存在，返回 true ；否则，返回 false 。\n",
    "- 叶子节点 是指没有子节点的节点。\n",
    "> 思路\n",
    "- 进行递归遍历：\n",
    "- 从根节点开始，目标值减去经过的叶节点，逐渐缩小目标值，\n",
    "- 直到目标值小于等于0，如果等于0，则说明存在这样的路径\n",
    "- 注意：这里是要求跟节点到**叶子节点**，当剩余的目标值为0时，还需要进一步判断当前节点是不是叶节点（没有左右子节点）\n",
    "- 如果是叶子节点，就说明存在这样的路径，输出True"
   ],
   "id": "bac3203fe10a73f7"
  },
  {
   "metadata": {},
   "cell_type": "code",
   "outputs": [],
   "execution_count": null,
   "source": [
    "# 112 https://leetcode.cn/problems/path-sum/description/?envType=problem-list-v2&envId=binary-tree\n",
    "class Solution:\n",
    "    def hasPathSum(self, root: Optional[TreeNode], targetSum: int) -> bool:\n",
    "        def dfs(root, tar):\n",
    "            # 从根节点开始，目标值减去经过的叶节点，逐渐缩小目标值，\n",
    "            # 直到目标值小于等于0，如果等于0，则说明存在这样的路径\n",
    "            if not root: return False\n",
    "            if not root.left and not root.right:  \n",
    "                return tar == root.val \n",
    "\n",
    "            return dfs(root.left, tar - root.val) or dfs(root.right, tar - root.val)\n",
    "       \n",
    "        return dfs(root, targetSum)"
   ],
   "id": "c554c79cae8b00c2"
  },
  {
   "metadata": {},
   "cell_type": "markdown",
   "source": [
    "### 4.4 路径总和II\n",
    "- 同上，但是输出的是所有的路径\n",
    "> 思路：\n",
    "- 用用一个path进行动态的增加（每次进来就把当前节点添加进入）、删除（如果不是目标路径，就把前面添加的这个节点删除）\n",
    "- 出口：当匹配到目标值，且当前节点是叶子节点（没有左右子节点），就把当前的路径添加到总的路径列表中\n",
    "\n",
    "\n"
   ],
   "id": "bdc8b9ffd94c36bf"
  },
  {
   "metadata": {
    "ExecuteTime": {
     "end_time": "2025-10-14T08:22:09.588141Z",
     "start_time": "2025-10-14T08:22:09.571102Z"
    }
   },
   "cell_type": "code",
   "source": [
    "# 113 https://leetcode.cn/problems/path-sum-ii/description/?envType=problem-list-v2&envId=binary-tree\n",
    "class Solution:\n",
    "    def pathSum(self, root: Optional[TreeNode], targetSum: int) -> List[List[int]]:\n",
    "        all_paths = []\n",
    "        path = []\n",
    "        def dfs(root, tar:int):\n",
    "            if not root: return \n",
    "            path.append(root.val)\n",
    "            if tar == root.val and not root.left and not root.right:\n",
    "                all_paths.append(list(path))\n",
    "               \n",
    "            dfs(root.left, tar - root.val)\n",
    "            dfs(root.right, tar - root.val)\n",
    "            path.pop()\n",
    "\n",
    "        dfs(root, targetSum)\n",
    "        return all_paths"
   ],
   "id": "f3e08b60eadb044",
   "outputs": [],
   "execution_count": 18
  },
  {
   "metadata": {},
   "cell_type": "markdown",
   "source": "### 4.5 二叉树中的最大路径和",
   "id": "f11e2a97c34eeecb"
  },
  {
   "metadata": {
    "ExecuteTime": {
     "end_time": "2025-10-14T09:23:52.644289Z",
     "start_time": "2025-10-14T09:23:52.638290Z"
    }
   },
   "cell_type": "code",
   "source": [
    "# 124 https://leetcode.cn/problems/binary-tree-maximum-path-sum/description/?envType=problem-list-v2&envId=binary-tree\n",
    "\n",
    "\n"
   ],
   "id": "54c4b95af1827f44",
   "outputs": [],
   "execution_count": 23
  },
  {
   "metadata": {},
   "cell_type": "markdown",
   "source": [
    "### 4.6 求根节点到叶节点数字之和\n",
    "- 给你一个二叉树的根节点 root ，树中每个节点都存放有一个 0 到 9 之间的数字。\n",
    "- 每条从根节点到叶节点的路径都代表一个数字：\n",
    "- 例如，从根节点到叶节点的路径 1 -> 2 -> 3 表示数字 123 。\n",
    "- 计算从根节点到叶节点生成的 所有数字之和 。\n",
    "- 叶节点 是指没有子节点的节点。\n",
    "#### 示例\n",
    "```\n",
    "     4              \n",
    "   /  \\               \n",
    "  9    0\n",
    " / \\\n",
    "5   1      \n",
    "```\n",
    "输入：root = [4,9,0,5,1]\n",
    "输出：1026\n",
    "解释：\n",
    "从根到叶子节点路径 4->9->5 代表数字 495\n",
    "从根到叶子节点路径 4->9->1 代表数字 491\n",
    "从根到叶子节点路径 4->0 代表数字 40\n",
    "因此，数字总和 = 495 + 491 + 40 = 1026\n",
    "\n",
    "> 思路\n",
    "- 进行递归累加，直到累加到叶子节点，就将累加的结果加到总和tree_sum中\n",
    "- 从根节点出发，递归的时候，每往深一层，当前的数值就乘以10，\n",
    "- 即：如果路径有一层，就乘以一次10，如果有两层，则根节点需要有两次的乘以10，也就是100\n",
    "- 如上图的根节点4，最后应该是4*10*10=400，9需要一次，即9*10=90，5和1不需要，最后累加的结果是：400+90+5=495、400+90+1=491，以此类推"
   ],
   "id": "1d95ebcd072d164a"
  },
  {
   "metadata": {
    "ExecuteTime": {
     "end_time": "2025-10-14T09:56:01.360327Z",
     "start_time": "2025-10-14T09:56:01.348328Z"
    }
   },
   "cell_type": "code",
   "source": [
    "# 129 https://leetcode.cn/problems/sum-root-to-leaf-numbers/description/?envType=problem-list-v2&envId=binary-tree\n",
    "class Solution:\n",
    "    def sumNumbers(self, root: Optional[TreeNode]) -> int:\n",
    "        self.tree_sum = 0\n",
    "        def dfs(root, curr:int):\n",
    "            if not root: return \n",
    "            curr = 10 * curr + root.val \n",
    "            if not root.left and not root.right:\n",
    "                self.tree_sum += curr \n",
    "            \n",
    "            dfs(root.left, curr)\n",
    "            dfs(root.right, curr)\n",
    "\n",
    "        dfs(root, 0)\n",
    "        return self.tree_sum"
   ],
   "id": "8f5a4eee6e9d3482",
   "outputs": [],
   "execution_count": 28
  },
  {
   "metadata": {},
   "cell_type": "markdown",
   "source": "### 4.7 完全二叉树的节点个数",
   "id": "b42510d855672209"
  },
  {
   "metadata": {
    "ExecuteTime": {
     "end_time": "2025-10-14T13:32:35.474548Z",
     "start_time": "2025-10-14T13:32:35.457853Z"
    }
   },
   "cell_type": "code",
   "source": [
    "# 非最优解\n",
    "# 222 https://leetcode.cn/problems/count-complete-tree-nodes/description/?envType=problem-list-v2&envId=binary-tree\n",
    "class Solution:\n",
    "    def countNodes(self, root: Optional[TreeNode]) -> int:\n",
    "        self.n = 0\n",
    "        def dfs(root):\n",
    "            if not root: return \n",
    "            self.n += 1\n",
    "            dfs(root.left)\n",
    "            dfs(root.right)\n",
    "        dfs(root)\n",
    "        return self.n     "
   ],
   "id": "54be75c45161c6f",
   "outputs": [],
   "execution_count": 30
  },
  {
   "metadata": {},
   "cell_type": "markdown",
   "source": [
    "### 4.8 二叉树的所有路径\n",
    "- 给你一个二叉树的根节点 root ，按 任意顺序 ，返回所有从根节点到叶子节点的路径。\n",
    "- 叶子节点 是指没有子节点的节点。\n",
    "#### 示例\n",
    "```\n",
    "     1              \n",
    "   /  \\               \n",
    "  2    3\n",
    "   \\\n",
    "    5      \n",
    "```\n",
    "输入：root = [1,2,3,null,5]\n",
    "输出：[\"1->2->5\",\"1->3\"]\n",
    "\n",
    "> 思路\n",
    "- 利用递归一直到叶节点：判断叶节点：没有左右子节点；\n",
    "- 当达到叶节点时=，得到一条路径，添加到总路径中"
   ],
   "id": "2638952c7338ec16"
  },
  {
   "metadata": {
    "ExecuteTime": {
     "end_time": "2025-10-14T14:35:20.034829Z",
     "start_time": "2025-10-14T14:35:20.027830Z"
    }
   },
   "cell_type": "code",
   "source": [
    "# 257 https://leetcode.cn/problems/binary-tree-paths/description/?envType=problem-list-v2&envId=binary-tree\n",
    "class Solution:\n",
    "    def binaryTreePaths(self, root: Optional[TreeNode]) -> List[str]:\n",
    "        paths = []\n",
    "        path = []\n",
    "        def dfs(root):\n",
    "            if not root: return \n",
    "            path.append(root.val)\n",
    "            if not root.left and not root.right:\n",
    "                paths.append('->'.join([str(p) for p in path]))\n",
    "            \n",
    "            dfs(root.left)\n",
    "            dfs(root.right)\n",
    "\n",
    "            path.pop()\n",
    "        \n",
    "        dfs(root)\n",
    "        return paths"
   ],
   "id": "65e812d9dd26f226",
   "outputs": [],
   "execution_count": 37
  },
  {
   "metadata": {
    "ExecuteTime": {
     "end_time": "2025-10-14T14:35:20.270786Z",
     "start_time": "2025-10-14T14:35:20.254724Z"
    }
   },
   "cell_type": "code",
   "source": "",
   "id": "755fe5d9e73311c5",
   "outputs": [],
   "execution_count": 37
  },
  {
   "metadata": {},
   "cell_type": "code",
   "outputs": [],
   "execution_count": null,
   "source": "",
   "id": "7075e500eb7ffd16"
  },
  {
   "metadata": {},
   "cell_type": "markdown",
   "source": "## 5、其他二叉树",
   "id": "67fe79af382c2e41"
  },
  {
   "metadata": {},
   "cell_type": "markdown",
   "source": [
    "### 5.1 相同的树\n",
    "- 给你两棵二叉树的根节点 p 和 q ，编写一个函数来检验这两棵树是否相同。  \n",
    "- 如果两个树在结构上相同，并且节点具有相同的值，则认为它们是相同的。\n",
    "\n",
    "> 思路\n",
    "- 两个数同时进行递归，并将两个树相同部位进行比较即可"
   ],
   "id": "a71f50e71fc275f6"
  },
  {
   "metadata": {
    "ExecuteTime": {
     "end_time": "2025-10-14T05:58:52.594758Z",
     "start_time": "2025-10-14T05:58:52.591759Z"
    }
   },
   "cell_type": "code",
   "source": [
    "# 100 https://leetcode.cn/problems/same-tree/description/?envType=problem-list-v2&envId=binary-tree\n",
    "class Solution:\n",
    "    def isSameTree(self, p: Optional[TreeNode], q: Optional[TreeNode]) -> bool:\n",
    "        # 递归方法\n",
    "        def dfs(p, q):\n",
    "            if not p and not q: return True\n",
    "            if p and q and p.val == q.val:\n",
    "                return dfs(p.left, q.left) and dfs(p.right, q.right)\n",
    "            \n",
    "            return False\n",
    "\n",
    "        return dfs(p, q)"
   ],
   "id": "f8c6294e7e2c3aa5",
   "outputs": [],
   "execution_count": 13
  },
  {
   "metadata": {},
   "cell_type": "markdown",
   "source": [
    "### 5.2 对称二叉树\n",
    "- 给你一个二叉树的根节点 root，检查它是否轴对称\n",
    "> 思路\n",
    "- 跟相同的树一样的逻辑，左右同时进行递归、逐个对比\n",
    "- 不同的是，两个对比项时，一个左边、一个右边"
   ],
   "id": "efd424f2489d7a67"
  },
  {
   "metadata": {
    "ExecuteTime": {
     "end_time": "2025-10-14T05:57:05.806078Z",
     "start_time": "2025-10-14T05:57:05.797573Z"
    }
   },
   "cell_type": "code",
   "source": [
    "# 101 https://leetcode.cn/problems/symmetric-tree/description/?envType=problem-list-v2&envId=binary-tree\n",
    "class Solution:\n",
    "    def isSymmetric(self, root: Optional[TreeNode]) -> bool:\n",
    "        def dfs(p, q):\n",
    "            if not p and not q: return True\n",
    "            if p and q and p.val == q.val:\n",
    "                return dfs(p.left, q.right) and dfs(p.right, q.left)\n",
    "            \n",
    "            return False\n",
    "\n",
    "        return dfs(root.left, root.right)"
   ],
   "id": "a984db92c83107e1",
   "outputs": [],
   "execution_count": 12
  },
  {
   "metadata": {},
   "cell_type": "markdown",
   "source": [
    "### 5.3 平衡二叉树\n",
    "- 给定一个二叉树，判断它是否是 平衡二叉树\n",
    "- 平衡二叉树的定义：任意节点的左右子树高度差不超过1\n",
    "> 思路：\n",
    "- 首先假设是平衡树：is_balance = True\n",
    "- 还是利用前面计算树的深度的递归方法的思想：进行左右子树的计算，再加入一个判断:\n",
    "- 如果左右子树的高度差超过1，就将is_balance赋值为False,也就是最终函数返回的结果"
   ],
   "id": "8acf2f8e1890cc8c"
  },
  {
   "metadata": {
    "ExecuteTime": {
     "end_time": "2025-10-14T05:57:05.884744Z",
     "start_time": "2025-10-14T05:57:05.870253Z"
    }
   },
   "cell_type": "code",
   "source": [
    "# 110 https://leetcode.cn/problems/balanced-binary-tree/?envType=problem-list-v2&envId=binary-tree\n",
    "class Solution:\n",
    "    def isBalanced(self, root: Optional[TreeNode]) -> bool:     \n",
    "        self.res = True\n",
    "        # 递归方法\n",
    "        def dfs(root):\n",
    "            if not root: return 0\n",
    "            left = dfs(root.left)\n",
    "            right = dfs(root.right)\n",
    "  \n",
    "            if abs(left - right) >1:\n",
    "                self.res = False\n",
    "                return -1\n",
    "\n",
    "            return max(left, right) + 1\n",
    "\n",
    "        dfs(root)\n",
    "        return self.res "
   ],
   "id": "2054f9a4c4064b9d",
   "outputs": [],
   "execution_count": 12
  },
  {
   "metadata": {},
   "cell_type": "markdown",
   "source": [
    "### 5.4 二叉树展开为链表 \n",
    "- 给你二叉树的根结点 root ，请你将它展开为一个单链表：\n",
    "- 展开后的单链表应该同样使用 TreeNode ，其中 right 子指针指向链表中下一个结点，而左子指针始终为 null 。\n",
    "- 展开后的单链表应该与二叉树**先序遍历**顺序相同。\n",
    "- 不需要返回值，只在原对象上改\n",
    "\n",
    "#### 例子\n",
    "```\n",
    "输入：              输出：\n",
    "    1               1\n",
    "   /  \\               \\\n",
    "  2    3                2\n",
    " /                        \\\n",
    "4                           4\n",
    "                              \\\n",
    "                                3\n",
    "```\n",
    "> 思路\n",
    "- 在进行非递归先序遍历的过程中，逐个改成节点指向：\n",
    "- 将上一个的右子树指向先序遍历的下一个节点；将左子树设置为None"
   ],
   "id": "97c31f98f10b359d"
  },
  {
   "metadata": {
    "ExecuteTime": {
     "end_time": "2025-10-14T08:43:10.104526Z",
     "start_time": "2025-10-14T08:43:10.091527Z"
    }
   },
   "cell_type": "code",
   "source": [
    "# 114 https://leetcode.cn/problems/flatten-binary-tree-to-linked-list/description/?envType=problem-list-v2&envId=binary-tree\n",
    "class Solution:\n",
    "    def flatten(self, root: Optional[TreeNode]) -> None:\n",
    "        \"\"\"\n",
    "        Do not return anything, modify root in-place instead.\n",
    "        \"\"\"\n",
    "        # 利用非递归思路进行前序遍历，逐个改变当前树的结构\n",
    "        if not root: return\n",
    "\n",
    "        stack = [root]\n",
    "        p = root \n",
    "        while stack:\n",
    "            curr = stack.pop()\n",
    "            if curr != root:\n",
    "                p.right = curr\n",
    "                p.left = None\n",
    "            if curr.right: stack.append(curr.right)\n",
    "            if curr.left: stack.append(curr.left)\n",
    "\n",
    "            p = curr "
   ],
   "id": "8d78b3b02a268e31",
   "outputs": [],
   "execution_count": 20
  },
  {
   "metadata": {},
   "cell_type": "markdown",
   "source": [
    "### 5.5 填充每个节点的下一个右侧节点指针\n",
    "- 填充它的每个 next 指针，让这个指针指向其下一个右侧节点。如果找不到下一个右侧节点，则将 next 指针设置为 NULL。\n",
    "- 初始状态下，所有 next 指针都被设置为 NULL。\n",
    "- 116输入的是完美二叉树,117输入的是非完美二叉树，但是解法一样\n",
    "#### 示例：\n",
    "```\n",
    "    输入\n",
    "     1               1 -> None\n",
    "   /   \\           /   \\       \n",
    "  2     3         2 ->  3 -> None\n",
    " / \\   / \\       / \\   / \\   \n",
    "4   5 6   7     4 ->5 6 -> 7 -> None\n",
    "```\n",
    "> 思路：\n",
    "- 在层次遍历的基础上进行改进\n",
    "- 不需要保留层次遍历的结果，只需要在层次遍历的过程中，把同一层的节点进行next指向即可"
   ],
   "id": "569d5e3e5f1a0484"
  },
  {
   "metadata": {
    "ExecuteTime": {
     "end_time": "2025-10-14T08:46:13.235799Z",
     "start_time": "2025-10-14T08:46:13.231798Z"
    }
   },
   "cell_type": "code",
   "source": [
    "# 116 https://leetcode.cn/problems/populating-next-right-pointers-in-each-node/description/?envType=problem-list-v2&envId=binary-tree\n",
    "# 117 https://leetcode.cn/problems/populating-next-right-pointers-in-each-node-ii/?envType=problem-list-v2&envId=binary-tree\n",
    "class Solution:\n",
    "    def connect(self, root: 'Optional[Node]') -> 'Optional[Node]':\n",
    "        if not root: return root \n",
    "        temp = [[root]] if root else []\n",
    "        idx = 0\n",
    "        while idx < len(temp):\n",
    "            currs = temp[idx]\n",
    "            layers = []\n",
    "            for i, curr in enumerate(currs):\n",
    "                # 同一层的节点进行指向\n",
    "                curr.next = currs[i + 1] if i + 1 < len(currs) else None\n",
    "                if curr.left: layers.append(curr.left)\n",
    "                if curr.right: layers.append(curr.right)\n",
    "\n",
    "            if layers: temp.append(layers)\n",
    "\n",
    "            idx += 1\n",
    "\n",
    "        return root "
   ],
   "id": "da46453f366ae7e2",
   "outputs": [],
   "execution_count": 21
  },
  {
   "metadata": {
    "ExecuteTime": {
     "end_time": "2025-10-14T08:46:13.600014Z",
     "start_time": "2025-10-14T08:46:13.582732Z"
    }
   },
   "cell_type": "code",
   "source": "",
   "id": "9f90ea02a96f92ae",
   "outputs": [],
   "execution_count": 21
  },
  {
   "metadata": {},
   "cell_type": "markdown",
   "source": [
    "### 5.6 二叉树的右视图 \n",
    "- 给定一个二叉树的 根节点 root，想象自己站在它的右侧，按照从顶部到底部的顺序，返回从右侧所能看到的节点值。\n",
    "#### 示例\n",
    "```\n",
    "   1  <--\n",
    "2     3 <--\n",
    "  5      4  <--\n",
    "```\n",
    "输入：root = [1,2,3,null,5,null,4]\n",
    "\n",
    "输出：[1,3,4]\n",
    "\n",
    "> 思路\n",
    "- 借鉴上面层次遍历的方法，改动一下，在每层的节点中取最后值，就是树的右视图了"
   ],
   "id": "9cacccfec9f34e9c"
  },
  {
   "metadata": {
    "ExecuteTime": {
     "end_time": "2025-10-14T10:00:52.223716Z",
     "start_time": "2025-10-14T10:00:52.220716Z"
    }
   },
   "cell_type": "code",
   "source": [
    "# 199 https://leetcode.cn/problems/binary-tree-right-side-view/description/?envType=problem-list-v2&envId=binary-tree\n",
    "class Solution:\n",
    "    def rightSideView(self, root: Optional[TreeNode]) -> List[int]:\n",
    "        if not root: return []\n",
    "\n",
    "        res, temp, idx = [], [[root]], 0\n",
    "        while idx < len(temp):\n",
    "            currs = temp[idx]\n",
    "            layers = []\n",
    "            for curr in currs:\n",
    "                if curr.left: layers.append(curr.left)\n",
    "                if curr.right: layers.append(curr.right)\n",
    "            \n",
    "            if layers: temp.append(layers)\n",
    "\n",
    "            res.append(currs[-1].val)\n",
    "            idx += 1\n",
    "\n",
    "        return res "
   ],
   "id": "f5e89513d3321404",
   "outputs": [],
   "execution_count": 29
  },
  {
   "metadata": {},
   "cell_type": "markdown",
   "source": [
    "### 5.7 翻转二叉树\n",
    "- 给你一棵二叉树的根节点 root ，翻转这棵二叉树，并返回其根节点。\n",
    "#### 示例\n",
    "```\n",
    "     1             1  \n",
    "   /   \\         /   \\ \n",
    "  2     3       3     2      \n",
    "```\n",
    "> 思路\n",
    "- 递归：在递归的过程中进行交换子树\n",
    "- 非递归：进行前序遍历的过程中，进行交换\n"
   ],
   "id": "22abc6fce8e8856e"
  },
  {
   "metadata": {
    "ExecuteTime": {
     "end_time": "2025-10-14T13:33:20.817626Z",
     "start_time": "2025-10-14T13:33:20.808626Z"
    }
   },
   "cell_type": "code",
   "source": [
    "# 226 https://leetcode.cn/problems/invert-binary-tree/description/?envType=problem-list-v2&envId=binary-tree\n",
    "class Solution:\n",
    "    def invertTree(self, root: Optional[TreeNode]) -> Optional[TreeNode]:\n",
    "        # 递归方法\n",
    "        def dfs(root):\n",
    "            if not root: return \n",
    "            p = root.left\n",
    "            root.left = root.right\n",
    "            root.right = p \n",
    "\n",
    "            dfs(root.left)\n",
    "            dfs(root.right)\n",
    "        \n",
    "        # 非递归方法\n",
    "        def dfs(root):\n",
    "            stack = [root] if root else []\n",
    "            while stack:\n",
    "                curr = stack.pop()\n",
    "                if curr.left:\n",
    "                    stack.append(curr.left)\n",
    "                if curr.right:\n",
    "                    stack.append(curr.right)\n",
    "                \n",
    "                p = curr.left \n",
    "                curr.left = curr.right\n",
    "                curr.right = p \n",
    "                \n",
    "            return root "
   ],
   "id": "3dee4b8a0c5f1698",
   "outputs": [],
   "execution_count": 30
  },
  {
   "metadata": {},
   "cell_type": "markdown",
   "source": [
    "### 5.8 二叉树的最近公共祖先\n",
    "- 给定一个二叉树, 找到该树中两个指定节点的最近公共祖先。\n",
    "- 百度百科中最近公共祖先的定义为：“对于有根树 T 的两个节点 p、q，最近公共祖先表示为一个节点 x，满足 x 是 p、q 的祖先且 x 的深度尽可能大（一个节点也可以是它自己的祖先）。”\n",
    "#### 示例\n",
    "```\n",
    "     5             \n",
    "   /   \\        \n",
    "  2     4    \n",
    "输出：5       \n",
    "```\n",
    "> 思路\n",
    "- 从树种找出两个待查找节点p、q的公共父节点\n",
    "- 递归方法：在某个节点下，同时获取当前节点的是否包含待查找节点p或者q，获取左右子树时候包含待查找节点，如果当前节点和左右子树同时包两个待查找节点，则当前节点为公共父节点\n",
    "- 注：某个子树包含待查找节点，则当前节点也是包含待查找节点"
   ],
   "id": "ecf4caf5b3b776c0"
  },
  {
   "metadata": {
    "ExecuteTime": {
     "end_time": "2025-10-14T13:33:21.380484Z",
     "start_time": "2025-10-14T13:33:21.376484Z"
    }
   },
   "cell_type": "code",
   "source": [
    "# 236 https://leetcode.cn/problems/lowest-common-ancestor-of-a-binary-tree/description/?envType=problem-list-v2&envId=binary-tree\n",
    "class Solution:\n",
    "    def lowestCommonAncestor(self, root: 'TreeNode', p: 'TreeNode', q: 'TreeNode') -> 'TreeNode':\n",
    "        # 相同节点\n",
    "        self.comm = root \n",
    "        def dfs(root):\n",
    "            if not root: return False\n",
    "\n",
    "            curr = root in [p, q]\n",
    "            left = dfs(root.left)\n",
    "            right = dfs(root.right)\n",
    "\n",
    "            if left and right or curr and left or curr and right:\n",
    "                self.comm = root \n",
    "            return curr or left or right\n",
    "\n",
    "        dfs(root)\n",
    "        return self.comm\n",
    "        "
   ],
   "id": "c8cdd9d8b6877ac7",
   "outputs": [],
   "execution_count": 30
  },
  {
   "metadata": {},
   "cell_type": "code",
   "outputs": [],
   "execution_count": null,
   "source": "",
   "id": "429ae56f984f5f59"
  }
 ],
 "metadata": {
  "kernelspec": {
   "display_name": "Python 3",
   "language": "python",
   "name": "python3"
  },
  "language_info": {
   "codemirror_mode": {
    "name": "ipython",
    "version": 2
   },
   "file_extension": ".py",
   "mimetype": "text/x-python",
   "name": "python",
   "nbconvert_exporter": "python",
   "pygments_lexer": "ipython2",
   "version": "2.7.6"
  }
 },
 "nbformat": 4,
 "nbformat_minor": 5
}
