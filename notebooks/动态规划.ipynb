{
 "cells": [
  {
   "metadata": {},
   "cell_type": "markdown",
   "source": [
    "# 动态规划-理论\n",
    "\n",
    "# 一、背包问题\n",
    "## 1、01 背包\n",
    "- 概念：每种物品只能取一次\n",
    "- 递推公式：\n",
    "    - 朴素（二维）算法：dp[i][j] = max(dp[i-1][j], dp[i-1][j - w[i]] + v[i])\n",
    "    - 一维算法：dp[j] = max(dp[j], dp[j- w[i]] + v[i]); 从大往小遍历，每次更新都是利用上一层的结果，保证不会覆盖；\n",
    "\n",
    "## 2、完全背包\n",
    "- 概念：每种物品能取无数次（可以把对某个物品a取c次看成对一个（Wa * c）的物品取一次）\n",
    "- 递推公式：dp[j] = max(dp[j], dp[j - w[i]] + v[i]; 从小到大遍历。这样每次更新的都是当前层的结果；\n",
    "\n",
    "## 3、多重背包\n",
    "- 概念：每种物品能取有限的Mi次\n",
    "- 递推公式：dp[j] = max(dp[j], dp[j - k*w[i] + k*v[i]]), k表示当前物品取k次。也是从大到小的遍历\n",
    "- 二进制优化：利用二进制思想，优化每个物品取多少件\n",
    "\n",
    "\n",
    "\n",
    "\n",
    "\n",
    "\n",
    "\n",
    "\n",
    "\n",
    "\n",
    "\n",
    "\n",
    "\n",
    "\n",
    "\n",
    "\n",
    "\n",
    "\n",
    "\n",
    "\n",
    "\n",
    "\n",
    "\n",
    "\n",
    "-"
   ],
   "id": "f9a9e813085ad70c"
  },
  {
   "metadata": {},
   "cell_type": "markdown",
   "source": "# leetcode题目",
   "id": "f3e17e48dbe6e3aa"
  },
  {
   "metadata": {
    "ExecuteTime": {
     "end_time": "2025-08-10T13:16:51.817522Z",
     "start_time": "2025-08-10T13:16:51.802495Z"
    }
   },
   "cell_type": "code",
   "source": "from typing import List, Tuple, Optional, Callable",
   "id": "ed0b4e8ca364796d",
   "execution_count": 20,
   "outputs": []
  },
  {
   "metadata": {},
   "cell_type": "code",
   "execution_count": null,
   "source": "",
   "id": "36bec93630fae318",
   "outputs": []
  },
  {
   "metadata": {
    "ExecuteTime": {
     "end_time": "2025-08-10T14:11:19.941151Z",
     "start_time": "2025-08-10T14:11:19.925856Z"
    }
   },
   "cell_type": "code",
   "source": [
    "'''\n",
    "70. 爬楼梯\n",
    "假设你正在爬楼梯。需要 n 阶你才能到达楼顶。每次你可以爬 1 或 2 个台阶。你有多少种不同的方法可以爬到楼顶呢？\n",
    "示例 1：\n",
    "输入：n = 2\n",
    "输出：2\n",
    "解释：有两种方法可以爬到楼顶。\n",
    "1. 1 阶 + 1 阶\n",
    "2. 2 阶\n",
    "'''\n",
    "class Solution:\n",
    "    def climbStairs(self, n: int) -> int:\n",
    "        if n <= 2: return n\n",
    "        a, b = 1, 2\n",
    "        for i in range(2, n):\n",
    "            tmp = b\n",
    "            b = a + b\n",
    "            a = tmp\n",
    "        return b\n",
    "\n"
   ],
   "id": "5438dd07f4bbd9b4",
   "execution_count": 21,
   "outputs": []
  },
  {
   "metadata": {},
   "cell_type": "markdown",
   "source": "## 111 -> 120",
   "id": "48ab312d665d752f"
  },
  {
   "metadata": {
    "ExecuteTime": {
     "end_time": "2025-08-10T14:40:28.636437Z",
     "start_time": "2025-08-10T14:40:28.620314Z"
    }
   },
   "cell_type": "code",
   "source": [
    "# 111 -> 120\n",
    "'''\n",
    "118. 杨辉三角\n",
    "给定一个非负整数 numRows，生成「杨辉三角」的前 numRows 行。\n",
    "在「杨辉三角」中，每个数是它左上方和右上方的数的和。\n",
    "示例 1:\n",
    "输入: numRows = 5\n",
    "输出: [[1],[1,1],[1,2,1],[1,3,3,1],[1,4,6,4,1]]\n",
    "示例 2:\n",
    "输入: numRows = 1\n",
    "输出: [[1]]\n",
    "'''\n",
    "class Solution:\n",
    "    def generate(self, numRows: int) -> List[List[int]]:\n",
    "        res = [[1]]\n",
    "        if numRows == 1: return res\n",
    "\n",
    "        for layer in range(1, numRows):\n",
    "            pre_lay = res[layer-1]\n",
    "            res.append([1])\n",
    "            for i in range(len(pre_lay)-1):\n",
    "                s = pre_lay[i]+pre_lay[i+1]\n",
    "                res[layer].append(s)\n",
    "            res[layer].append(1)\n",
    "\n",
    "        return res\n",
    "\n",
    "'''\n",
    "119. 杨辉三角 II\n",
    "给定一个非负索引 rowIndex，返回「杨辉三角」的第 rowIndex 行。在「杨辉三角」中，每个数是它左上方和右上方的数的和。\n",
    "思路：这里只保留上一层和当前层即可\n",
    "'''\n",
    "class Solution:\n",
    "    def getRow(self, rowIndex: int) -> List[int]:\n",
    "        curr_lays = [1]\n",
    "\n",
    "        for layer in range(rowIndex):\n",
    "            pre_lays = [0] + curr_lays + [0]\n",
    "            curr_lays = []\n",
    "            for i in range(len(pre_lays) - 1):\n",
    "                curr_lays.append(pre_lays[i] + pre_lays[i + 1])\n",
    "\n",
    "        return curr_lays\n"
   ],
   "id": "39773f356017d98",
   "execution_count": 29,
   "outputs": []
  },
  {
   "metadata": {},
   "cell_type": "markdown",
   "source": "## 121 -> 131",
   "id": "32279f4e0c508466"
  },
  {
   "metadata": {},
   "cell_type": "code",
   "execution_count": null,
   "source": [
    "'''\n",
    "121. 买卖股票的最佳时机\n",
    "给定一个数组 prices ，它的第 i 个元素 prices[i] 表示一支给定股票第 i 天的价格。\n",
    "你只能选择 某一天 买入这只股票，并选择在 未来的某一个不同的日子 卖出该股票。设计一个算法来计算你所能获取的最大利润。\n",
    "返回你可以从这笔交易中获取的最大利润。如果你不能获取任何利润，返回 0 。\n",
    "示例 1：\n",
    "输入：[7,1,5,3,6,4]\n",
    "输出：5\n",
    "解释：在第 2 天（股票价格 = 1）的时候买入，在第 5 天（股票价格 = 6）的时候卖出，最大利润 = 6-1 = 5 。\n",
    "     注意利润不能是 7-1 = 6, 因为卖出价格需要大于买入价格；同时，你不能在买入前卖出股票。\n",
    "'''\n",
    "class Solution:\n",
    "    def maxProfit(self, prices: List[int]) -> int:\n",
    "        p_min = prices[0]\n",
    "        v_max = 0\n",
    "        for curr_p in prices:\n",
    "            p_min = min(p_min, curr_p)\n",
    "            v_max = max(v_max, curr_p - p_min)\n",
    "\n",
    "        return v_max\n",
    "\n"
   ],
   "id": "43989d8c52b0c5cb",
   "outputs": []
  },
  {
   "metadata": {
    "ExecuteTime": {
     "end_time": "2025-08-10T15:11:14.361331Z",
     "start_time": "2025-08-10T15:11:14.345205Z"
    }
   },
   "cell_type": "code",
   "source": [
    "'''\n",
    "面试题 08.11. 硬币\n",
    "硬币。给定数量不限的硬币，币值为25分、10分、5分和1分，编写代码计算n分有几种表示法。(结果可能会很大，你需要将结果模上1000000007)\n",
    "\n",
    "示例 1：\n",
    " 输入：n = 5\n",
    " 输出：2\n",
    " 解释：有两种方式可以凑成总金额:\n",
    "5=5\n",
    "5=1+1+1+1+1\n",
    "示例 2：\n",
    "\n",
    " 输入：n = 10\n",
    " 输出：4\n",
    " 解释：有四种方式可以凑成总金额:\n",
    "10=10\n",
    "10=5+5\n",
    "10=5+1+1+1+1+1\n",
    "10=1+1+1+1+1+1+1+1+1+1\n",
    "'''\n",
    "class Solution:\n",
    "    def waysToChange(self, n: int) -> int:\n",
    "        if n <= 1: return n\n",
    "        self.max = 1000000007\n",
    "\n",
    "        res = 0\n",
    "        int_n = int(n //  5 * 5)\n",
    "        while int_n > 0:\n",
    "            s = 1 if int_n >= 10 and int_n % 10 == 0 else 2\n",
    "\n",
    "            p = int_n // 10 + 1\n",
    "            k = int_n // 5 + 1\n",
    "            res += p*(s+k)//2\n",
    "            int_n -= 25\n",
    "\n",
    "        res += int(int_n == 0)\n",
    "\n",
    "        return res % self.max\n",
    "\n",
    "    # dp解法：\n",
    "    def waysToChange_dp(self, n: int) -> int:\n",
    "        coins = [1, 5, 10, 25]\n",
    "        dp = [0] * (n + 1)\n",
    "        dp[0] = 1\n",
    "        for coin in coins :\n",
    "            for i in range(coin, n + 1) :\n",
    "                dp[i] = (dp[i] + dp[i - coin])\n",
    "\n",
    "        return dp[n] % 1000000007"
   ],
   "id": "5f38c7ca338d9dcc",
   "execution_count": 30,
   "outputs": []
  },
  {
   "metadata": {
    "ExecuteTime": {
     "end_time": "2025-08-10T13:15:30.329385Z",
     "start_time": "2025-08-10T13:15:30.315552Z"
    }
   },
   "cell_type": "code",
   "source": [
    "'''\n",
    "面试题 16.17. 连续数列\n",
    "已解答\n",
    "简单\n",
    "相关标签\n",
    "premium lock icon\n",
    "相关企业\n",
    "提示\n",
    "给定一个整数数组，找出总和最大的连续数列，并返回总和。\n",
    "\n",
    "示例：\n",
    "\n",
    "输入： [-2,1,-3,4,-1,2,1,-5,4]\n",
    "输出： 6\n",
    "解释： 连续子数组 [4,-1,2,1] 的和最大，为 6。\n",
    "'''\n",
    "class Solution:\n",
    "    def maxSubArray(self, nums: list) -> int:\n",
    "        curr_max = nums[0]\n",
    "\n",
    "        for i in range(1, len(nums)):\n",
    "            if nums[i-1] >= 0:\n",
    "                nums[i] = nums[i] + nums[i-1]\n",
    "            curr_max = max(curr_max, nums[i])\n",
    "\n",
    "        return curr_max"
   ],
   "id": "fffea5961a3af4ee",
   "execution_count": 19,
   "outputs": []
  },
  {
   "metadata": {
    "ExecuteTime": {
     "end_time": "2025-08-10T12:35:14.495362Z",
     "start_time": "2025-08-10T12:35:14.479727Z"
    }
   },
   "cell_type": "code",
   "source": [
    "'''\n",
    "面试题 08.02. 迷路的机器人\n",
    "设想有个机器人坐在一个网格的左上角，网格 r 行 c 列。机器人只能向下或向右移动，但不能走到一些被禁止的网格（有障碍物）。设计一种算法，寻找机器人从左上角移动到右下角的路径。网格中的障碍物和空位置分别用 1 和 0 来表示。返回一条可行的路径，路径由经过的网格的行号和列号组成。左上角为 0 行 0 列。如果没有可行的路径，返回空数组。\n",
    "示例 1：\n",
    "输入：[[0,0,0],[0,1,0],[0,0,0]]\n",
    "输出：[[0,0],[0,1],[0,2],[1,2],[2,2]]\n",
    "解释：\n",
    "输入中标粗的位置即为输出表示的路径，即\n",
    "0 行 0 列（左上角） -> 0 行 1 列 -> 0 行 2 列 -> 1 行 2 列 -> 2 行 2 列（右下角）\n",
    "说明：r 和 c 的值均不超过 100。\n",
    "'''\n",
    "# 方法1： 回溯法\n",
    "class Solution:\n",
    "    def pathWithObstacles(self, obstacleGrid: List[List[int]]) -> List[List[int]]:\n",
    "        if not obstacleGrid or not obstacleGrid[0]: return []\n",
    "        self.r, self.c = len(obstacleGrid) - 1, len(obstacleGrid[0]) - 1\n",
    "        self.paths = []\n",
    "\n",
    "        def dfs(x,y, paths:list):\n",
    "            if 0 <= x <= self.c and 0 <= y <= self.r and not obstacleGrid[y][x]:\n",
    "                if x == self.c and y == self.r:\n",
    "                    self.paths.append([y, x])\n",
    "                    # self.paths = [p for p in paths]\n",
    "                    return True\n",
    "\n",
    "                self.paths.append([y, x])\n",
    "\n",
    "                if dfs(x+1, y, paths): return True\n",
    "                if dfs(x, y+1, paths): return True\n",
    "                self.paths.pop()\n",
    "                obstacleGrid[y][x] = 1\n",
    "\n",
    "            return False\n",
    "\n",
    "        dfs(0,0, [])\n",
    "\n",
    "        return self.paths\n",
    "\n",
    "# 方法2：动态规划\n",
    "\n"
   ],
   "id": "11956d748deb9896",
   "execution_count": 17,
   "outputs": []
  },
  {
   "metadata": {
    "ExecuteTime": {
     "end_time": "2025-08-10T13:15:38.644029Z",
     "start_time": "2025-08-10T13:15:38.628748Z"
    }
   },
   "cell_type": "code",
   "source": "",
   "id": "f38fffd6f5f578cc",
   "execution_count": null,
   "outputs": []
  },
  {
   "metadata": {},
   "cell_type": "code",
   "execution_count": null,
   "source": "",
   "id": "c924dfe9181198da",
   "outputs": []
  },
  {
   "metadata": {},
   "cell_type": "code",
   "execution_count": null,
   "source": "",
   "id": "49f5105b253cc2af",
   "outputs": []
  },
  {
   "metadata": {},
   "cell_type": "code",
   "execution_count": null,
   "source": "",
   "id": "25f20e634952056d",
   "outputs": []
  },
  {
   "metadata": {},
   "cell_type": "code",
   "execution_count": null,
   "source": "",
   "id": "763b7f32bb2d322e",
   "outputs": []
  },
  {
   "metadata": {},
   "cell_type": "code",
   "execution_count": null,
   "source": "",
   "id": "9e6032eaada89d6",
   "outputs": []
  },
  {
   "metadata": {
    "jupyter": {
     "is_executing": true
    }
   },
   "cell_type": "code",
   "source": "",
   "id": "1201e4a9af70195",
   "execution_count": null,
   "outputs": []
  },
  {
   "metadata": {},
   "cell_type": "code",
   "execution_count": null,
   "source": "",
   "id": "ef297155c41689ca",
   "outputs": []
  },
  {
   "metadata": {
    "ExecuteTime": {
     "end_time": "2025-08-11T12:40:41.391051Z",
     "start_time": "2025-08-11T12:40:41.378051Z"
    }
   },
   "cell_type": "code",
   "source": "",
   "id": "f5ebd090dbbfa0cf",
   "execution_count": null,
   "outputs": []
  },
  {
   "metadata": {},
   "cell_type": "markdown",
   "source": "## 331 -> 340",
   "id": "c93653c2ee46a90"
  },
  {
   "metadata": {},
   "cell_type": "code",
   "execution_count": null,
   "source": [
    "'''\n",
    "338. 比特位计数\n",
    "给你一个整数 n ，对于 0 <= i <= n 中的每个 i ，计算其二进制表示中 1 的个数 ，返回一个长度为 n + 1 的数组 ans 作为答案。\n",
    "示例 1：\n",
    "输入：n = 2\n",
    "输出：[0,1,1]\n",
    "解释：\n",
    "0 --> 0\n",
    "1 --> 1\n",
    "2 --> 10\n",
    "思路：\n",
    "最高1比特位；当前数的1比特数和最高比特位数的差值，差值的1比特位数+1，就是答案\n",
    "最高比特位数的检测：x & (x-1) == 0,比如2,4,8...\n",
    "https://leetcode.cn/problems/counting-bits/solutions/627418/bi-te-wei-ji-shu-by-leetcode-solution-0t1i/?envType=problem-list-v2&envId=dynamic-programming\n",
    "'''\n",
    "class Solution:\n",
    "    def countBits(self, n: int) -> List[int]:\n",
    "        # def cal_1(num:int) -> int:\n",
    "        #     return str(bin(num)).count('1')\n",
    "\n",
    "        # return [cal_1(i) for i in range(n+1)]\n",
    "        bits = [0]*(n+1)\n",
    "        for i in range(1, n+1):\n",
    "            if i & (i -1) == 0:\n",
    "                hig_bit = i\n",
    "            bits[i] = bits[i - hig_bit] + 1\n",
    "\n",
    "        return bits"
   ],
   "id": "58c6c134f5eee5c4",
   "outputs": []
  },
  {
   "metadata": {},
   "cell_type": "code",
   "execution_count": null,
   "source": "",
   "id": "a467f653a291acb2",
   "outputs": []
  },
  {
   "metadata": {},
   "cell_type": "markdown",
   "source": "## 381 -> 390",
   "id": "f83fe276e637ffec"
  },
  {
   "metadata": {},
   "cell_type": "code",
   "execution_count": null,
   "source": [
    "'''\n",
    "392. 判断子序列\n",
    "给定字符串 s 和 t ，判断 s 是否为 t 的子序列。\n",
    "字符串的一个子序列是原始字符串删除一些（也可以不删除）字符而不改变剩余字符相对位置形成的新字符串。\n",
    "（例如，\"ace\"是\"abcde\"的一个子序列，而\"aec\"不是）\n",
    "示例 1：\n",
    "输入：s = \"abc\", t = \"ahbgdc\"\n",
    "输出：true\n",
    "示例 2：\n",
    "输入：s = \"axc\", t = \"ahbgdc\"\n",
    "输出：false\n",
    "'''\n",
    "class Solution:\n",
    "    def isSubsequence(self, s: str, t: str) -> bool:\n",
    "        if not s: return True\n",
    "        if not t: return False\n",
    "        l = 0\n",
    "        for char in t:\n",
    "            if char == s[l]:\n",
    "                l += 1\n",
    "            if l >= len(s):\n",
    "                return True\n",
    "\n",
    "        return l >= len(s)"
   ],
   "id": "c4adfdaaadd22eec",
   "outputs": []
  },
  {
   "metadata": {},
   "cell_type": "code",
   "execution_count": null,
   "source": "",
   "id": "3470cff13e220e2c",
   "outputs": []
  },
  {
   "metadata": {},
   "cell_type": "markdown",
   "source": "## 501 -> 510",
   "id": "963f5f8dbd40dd7c"
  },
  {
   "metadata": {},
   "cell_type": "code",
   "execution_count": null,
   "source": [
    "'''\n",
    "509. 斐波那契数\n",
    "斐波那契数 （通常用 F(n) 表示）形成的序列称为 斐波那契数列 。该数列由 0 和 1 开始，后面的每一项数字都是前面两项数字的和。也就是：\n",
    "F(0) = 0，F(1) = 1\n",
    "F(n) = F(n - 1) + F(n - 2)，其中 n > 1\n",
    "给定 n ，请计算 F(n) 。\n",
    "示例 1：\n",
    "输入：n = 2\n",
    "输出：1\n",
    "解释：F(2) = F(1) + F(0) = 1 + 0 = 1\n",
    "'''\n",
    "class Solution:\n",
    "    def fib(self, n: int) -> int:\n",
    "        if n <= 1: return n\n",
    "        a, b = 0, 1\n",
    "        for _ in range(2, n+1):\n",
    "            a, b = b, a+b\n",
    "\n",
    "        return b"
   ],
   "id": "9a814a629f5acdf8",
   "outputs": []
  },
  {
   "metadata": {
    "ExecuteTime": {
     "end_time": "2025-08-10T15:58:40.236672Z",
     "start_time": "2025-08-10T15:58:40.221258Z"
    }
   },
   "cell_type": "code",
   "source": "",
   "id": "6554f421332b33dc",
   "execution_count": null,
   "outputs": []
  },
  {
   "metadata": {
    "ExecuteTime": {
     "end_time": "2025-08-10T15:58:40.454194Z",
     "start_time": "2025-08-10T15:58:40.439038Z"
    }
   },
   "cell_type": "code",
   "source": "",
   "id": "4abba8aa58557b8c",
   "execution_count": null,
   "outputs": []
  },
  {
   "metadata": {},
   "cell_type": "markdown",
   "source": "## 741 -> 755",
   "id": "e67a91cfb019e82d"
  },
  {
   "metadata": {
    "ExecuteTime": {
     "end_time": "2025-08-10T15:59:13.153250Z",
     "start_time": "2025-08-10T15:59:13.137221Z"
    }
   },
   "cell_type": "code",
   "source": [
    "'''\n",
    "746. 使用最小花费爬楼梯\n",
    "给你一个整数数组 cost ，其中 cost[i] 是从楼梯第 i 个台阶向上爬需要支付的费用。一旦你支付此费用，即可选择向上爬一个或者两个台阶。\n",
    "你可以选择从下标为 0 或下标为 1 的台阶开始爬楼梯。\n",
    "请你计算并返回达到楼梯顶部的最低花费。\n",
    "示例 1：\n",
    "输入：cost = [10,15,20]\n",
    "输出：15\n",
    "解释：你将从下标为 1 的台阶开始。\n",
    "- 支付 15 ，向上爬两个台阶，到达楼梯顶部。\n",
    "总花费为 15 。\n",
    "思路：遍历，只与前两项有关，且只需取前两项种最小的数\n",
    "'''\n",
    "class Solution:\n",
    "    def minCostClimbingStairs(self, cost: List[int]) -> int:\n",
    "        a, b = cost[0], cost[1]\n",
    "        for i in range(2, len(cost)):\n",
    "            a, b = b, min(a, b) + cost[i]\n",
    "\n",
    "        return min(a, b)"
   ],
   "id": "fa64b8d9b2c80ec0",
   "execution_count": 35,
   "outputs": []
  },
  {
   "metadata": {
    "ExecuteTime": {
     "end_time": "2025-08-10T16:43:40.435936Z",
     "start_time": "2025-08-10T16:43:40.420220Z"
    }
   },
   "cell_type": "code",
   "source": "",
   "id": "796eb7656b279f63",
   "execution_count": null,
   "outputs": []
  },
  {
   "metadata": {},
   "cell_type": "markdown",
   "source": "## 1021 -> 1030",
   "id": "a58094fc56d62ed8"
  },
  {
   "metadata": {
    "ExecuteTime": {
     "end_time": "2025-08-10T16:44:02.516320Z",
     "start_time": "2025-08-10T16:44:02.500011Z"
    }
   },
   "cell_type": "code",
   "source": [
    "'''\n",
    "1025. 除数博弈\n",
    "爱丽丝和鲍勃一起玩游戏，他们轮流行动。爱丽丝先手开局。最初，黑板上有一个数字 n 。在每个玩家的回合，玩家需要执行以下操作：\n",
    "选出任一 x，满足 0 < x < n 且 n % x == 0 。\n",
    "用 n - x 替换黑板上的数字 n 。\n",
    "如果玩家无法执行这些操作，就会输掉游戏。\n",
    "只有在爱丽丝在游戏中取得胜利时才返回 true 。假设两个玩家都以最佳状态参与游戏。\n",
    "示例 1：\n",
    "输入：n = 2\n",
    "输出：true\n",
    "解释：爱丽丝选择 1，鲍勃无法进行操作。\n",
    "'''\n",
    "class Solution:\n",
    "    def divisorGame(self, n: int) -> bool:\n",
    "        # return n % 2 == 0: 最优解\n",
    "        if n == 1: return False\n",
    "        dp = [False]*(n+1)\n",
    "        dp[1] = False\n",
    "        dp[2] = True\n",
    "\n",
    "        for i in range(4, n+1):\n",
    "            for j in range(1, i//2+1):\n",
    "                if i % j ==0 and not dp[i-j]:\n",
    "                    dp[i] = True\n",
    "                    break\n",
    "        print(dp)\n",
    "        return dp[-1]\n",
    "\n"
   ],
   "id": "bc5b133b741fbf89",
   "execution_count": null,
   "outputs": []
  },
  {
   "metadata": {
    "ExecuteTime": {
     "end_time": "2025-08-10T16:49:40.933970Z",
     "start_time": "2025-08-10T16:49:40.918414Z"
    }
   },
   "cell_type": "code",
   "source": "",
   "id": "9a6601deb65986c9",
   "execution_count": null,
   "outputs": []
  },
  {
   "metadata": {},
   "cell_type": "markdown",
   "source": "## 1131 -> 1140",
   "id": "e99e65e0234fbbf1"
  },
  {
   "metadata": {
    "ExecuteTime": {
     "end_time": "2025-08-10T16:50:20.153177Z",
     "start_time": "2025-08-10T16:50:20.137631Z"
    }
   },
   "cell_type": "code",
   "source": [
    "'''\n",
    "1137. 第 N 个泰波那契数\n",
    "泰波那契序列 Tn 定义如下：\n",
    "T0 = 0, T1 = 1, T2 = 1, 且在 n >= 0 的条件下 Tn+3 = Tn + Tn+1 + Tn+2\n",
    "给你整数 n，请返回第 n 个泰波那契数 Tn 的值。\n",
    "示例 1：\n",
    "输入：n = 4\n",
    "输出：4\n",
    "解释：\n",
    "T_3 = 0 + 1 + 1 = 2\n",
    "T_4 = 1 + 1 + 2 = 4\n",
    "'''\n",
    "class Solution:\n",
    "    def tribonacci(self, n: int) -> int:\n",
    "        if n <= 1: return n\n",
    "        if n == 2: return 1\n",
    "        a, b, c = 0, 1, 1\n",
    "        for i in range(3, n+1):\n",
    "            a, b, c = b, c, a+b+c\n",
    "\n",
    "        return c"
   ],
   "id": "665ca0dc9474b86e",
   "execution_count": 37,
   "outputs": []
  },
  {
   "metadata": {
    "ExecuteTime": {
     "end_time": "2025-08-11T12:04:49.210992Z",
     "start_time": "2025-08-11T12:04:49.195359Z"
    }
   },
   "cell_type": "code",
   "source": "",
   "id": "6121318a934bba8e",
   "execution_count": null,
   "outputs": []
  },
  {
   "metadata": {
    "ExecuteTime": {
     "end_time": "2025-08-11T12:04:49.311378Z",
     "start_time": "2025-08-11T12:04:49.298116Z"
    }
   },
   "cell_type": "code",
   "source": "",
   "id": "e9fe0ce8102438e",
   "execution_count": null,
   "outputs": []
  },
  {
   "metadata": {},
   "cell_type": "markdown",
   "source": [
    "## 2081 -> 2090\n",
    "\n"
   ],
   "id": "a55fe65849a9de46"
  },
  {
   "metadata": {
    "ExecuteTime": {
     "end_time": "2025-08-11T12:06:16.803616Z",
     "start_time": "2025-08-11T12:06:16.788587Z"
    }
   },
   "cell_type": "code",
   "source": [
    "'''\n",
    "2900. 最长相邻不相等子序列 I\n",
    "已解答\n",
    "简单\n",
    "相关标签\n",
    "premium lock icon\n",
    "相关企业\n",
    "提示\n",
    "给定一个字符串数组 words ，和一个 二进制 数组 groups ，两个数组长度都是 n 。\n",
    "\n",
    "如果 words 的一个 子序列 是交替的，那么对于序列中的任意两个连续字符串，它们在 groups 中相同索引的对应元素是 不同 的（也就是说，不能有连续的 0 或 1），\n",
    "\n",
    "你需要从 words 中选出 最长交替子序列。\n",
    "\n",
    "返回选出的子序列。如果有多个答案，返回 任意 一个。\n",
    "\n",
    "注意：words 中的元素是不同的 。\n",
    "'''\n",
    "class Solution:\n",
    "    def getLongestSubsequence(self, words: List[str], groups: List[int]) -> List[str]:\n",
    "        if not words or not groups: return []\n",
    "        res = [words[0]]\n",
    "        pre = groups[0]\n",
    "        for i in range(1, len(groups)):\n",
    "            if groups[i] != pre:\n",
    "                pre = groups[i]\n",
    "                res.append(words[i])\n",
    "\n",
    "        return res"
   ],
   "id": "817df1c8b132d5d2",
   "execution_count": 38,
   "outputs": []
  },
  {
   "metadata": {},
   "cell_type": "code",
   "execution_count": null,
   "source": "",
   "id": "e32f540820056e69",
   "outputs": []
  }
 ],
 "metadata": {
  "kernelspec": {
   "display_name": "Python 3",
   "language": "python",
   "name": "python3"
  },
  "language_info": {
   "codemirror_mode": {
    "name": "ipython",
    "version": 2
   },
   "file_extension": ".py",
   "mimetype": "text/x-python",
   "name": "python",
   "nbconvert_exporter": "python",
   "pygments_lexer": "ipython2",
   "version": "2.7.6"
  }
 },
 "nbformat": 4,
 "nbformat_minor": 5
}
